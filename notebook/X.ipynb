{
 "cells": [
  {
   "cell_type": "code",
   "execution_count": 1,
   "metadata": {},
   "outputs": [],
   "source": [
    "import pandas as pd"
   ]
  },
  {
   "cell_type": "code",
   "execution_count": 5,
   "metadata": {},
   "outputs": [
    {
     "data": {
      "text/html": [
       "<div>\n",
       "<style scoped>\n",
       "    .dataframe tbody tr th:only-of-type {\n",
       "        vertical-align: middle;\n",
       "    }\n",
       "\n",
       "    .dataframe tbody tr th {\n",
       "        vertical-align: top;\n",
       "    }\n",
       "\n",
       "    .dataframe thead th {\n",
       "        text-align: right;\n",
       "    }\n",
       "</style>\n",
       "<table border=\"1\" class=\"dataframe\">\n",
       "  <thead>\n",
       "    <tr style=\"text-align: right;\">\n",
       "      <th></th>\n",
       "      <th>last_fico_range_high</th>\n",
       "      <th>last_fico_range_low</th>\n",
       "      <th>collection_recovery_fee</th>\n",
       "      <th>total_pymnt_inv</th>\n",
       "      <th>int_rate</th>\n",
       "      <th>fico_range_high</th>\n",
       "      <th>debt_settlement_flag</th>\n",
       "      <th>sub_grade</th>\n",
       "      <th>grade</th>\n",
       "      <th>term</th>\n",
       "      <th>loan_condition</th>\n",
       "      <th>loan_condition_encoded</th>\n",
       "    </tr>\n",
       "  </thead>\n",
       "  <tbody>\n",
       "    <tr>\n",
       "      <th>0</th>\n",
       "      <td>689.0</td>\n",
       "      <td>685.0</td>\n",
       "      <td>0.0000</td>\n",
       "      <td>40544.06</td>\n",
       "      <td>13.99</td>\n",
       "      <td>719.0</td>\n",
       "      <td>N</td>\n",
       "      <td>C3</td>\n",
       "      <td>C</td>\n",
       "      <td>36 months</td>\n",
       "      <td>Good Loan</td>\n",
       "      <td>1</td>\n",
       "    </tr>\n",
       "    <tr>\n",
       "      <th>1</th>\n",
       "      <td>694.0</td>\n",
       "      <td>690.0</td>\n",
       "      <td>0.0000</td>\n",
       "      <td>21032.83</td>\n",
       "      <td>11.99</td>\n",
       "      <td>689.0</td>\n",
       "      <td>N</td>\n",
       "      <td>B5</td>\n",
       "      <td>B</td>\n",
       "      <td>36 months</td>\n",
       "      <td>Good Loan</td>\n",
       "      <td>1</td>\n",
       "    </tr>\n",
       "    <tr>\n",
       "      <th>2</th>\n",
       "      <td>499.0</td>\n",
       "      <td>0.0</td>\n",
       "      <td>132.1488</td>\n",
       "      <td>5072.42</td>\n",
       "      <td>15.31</td>\n",
       "      <td>714.0</td>\n",
       "      <td>N</td>\n",
       "      <td>C5</td>\n",
       "      <td>C</td>\n",
       "      <td>36 months</td>\n",
       "      <td>Bad Loan</td>\n",
       "      <td>0</td>\n",
       "    </tr>\n",
       "    <tr>\n",
       "      <th>3</th>\n",
       "      <td>789.0</td>\n",
       "      <td>785.0</td>\n",
       "      <td>0.0000</td>\n",
       "      <td>38615.68</td>\n",
       "      <td>13.98</td>\n",
       "      <td>729.0</td>\n",
       "      <td>N</td>\n",
       "      <td>C1</td>\n",
       "      <td>C</td>\n",
       "      <td>60 months</td>\n",
       "      <td>Good Loan</td>\n",
       "      <td>1</td>\n",
       "    </tr>\n",
       "    <tr>\n",
       "      <th>4</th>\n",
       "      <td>709.0</td>\n",
       "      <td>705.0</td>\n",
       "      <td>0.0000</td>\n",
       "      <td>13258.98</td>\n",
       "      <td>6.62</td>\n",
       "      <td>754.0</td>\n",
       "      <td>N</td>\n",
       "      <td>A2</td>\n",
       "      <td>A</td>\n",
       "      <td>36 months</td>\n",
       "      <td>Good Loan</td>\n",
       "      <td>1</td>\n",
       "    </tr>\n",
       "  </tbody>\n",
       "</table>\n",
       "</div>"
      ],
      "text/plain": [
       "   last_fico_range_high  last_fico_range_low  collection_recovery_fee  \\\n",
       "0                 689.0                685.0                   0.0000   \n",
       "1                 694.0                690.0                   0.0000   \n",
       "2                 499.0                  0.0                 132.1488   \n",
       "3                 789.0                785.0                   0.0000   \n",
       "4                 709.0                705.0                   0.0000   \n",
       "\n",
       "   total_pymnt_inv  int_rate  fico_range_high debt_settlement_flag sub_grade  \\\n",
       "0         40544.06     13.99            719.0                    N        C3   \n",
       "1         21032.83     11.99            689.0                    N        B5   \n",
       "2          5072.42     15.31            714.0                    N        C5   \n",
       "3         38615.68     13.98            729.0                    N        C1   \n",
       "4         13258.98      6.62            754.0                    N        A2   \n",
       "\n",
       "  grade        term loan_condition  loan_condition_encoded  \n",
       "0     C   36 months      Good Loan                       1  \n",
       "1     B   36 months      Good Loan                       1  \n",
       "2     C   36 months       Bad Loan                       0  \n",
       "3     C   60 months      Good Loan                       1  \n",
       "4     A   36 months      Good Loan                       1  "
      ]
     },
     "execution_count": 5,
     "metadata": {},
     "output_type": "execute_result"
    }
   ],
   "source": [
    "df = pd.read_csv(r'F:\\netsol_project\\task_1\\credit_decisioning_risk_assesment\\artifacts\\train.csv')\n",
    "df.head()"
   ]
  },
  {
   "cell_type": "code",
   "execution_count": 24,
   "metadata": {},
   "outputs": [],
   "source": [
    "stacked_df = df[['grade']].stack()\n",
    "stacked_df_ = df[['sub_grade']].stack()"
   ]
  },
  {
   "cell_type": "code",
   "execution_count": 25,
   "metadata": {},
   "outputs": [
    {
     "data": {
      "text/plain": [
       "array(['C', 'B', 'A', 'E', 'D', 'F', 'G'], dtype=object)"
      ]
     },
     "execution_count": 25,
     "metadata": {},
     "output_type": "execute_result"
    }
   ],
   "source": [
    "stacked_df.unique()"
   ]
  },
  {
   "cell_type": "code",
   "execution_count": 26,
   "metadata": {},
   "outputs": [
    {
     "data": {
      "text/plain": [
       "array(['C3', 'B5', 'C5', 'C1', 'A2', 'B3', 'E4', 'D2', 'E5', 'D1', 'C2',\n",
       "       'A1', 'D4', 'A4', 'E2', 'B2', 'A5', 'B4', 'D5', 'B1', 'E3', 'A3',\n",
       "       'E1', 'D3', 'C4', 'F4', 'F5', 'G1', 'G5', 'F1', 'F2', 'G2', 'G4',\n",
       "       'F3', 'G3'], dtype=object)"
      ]
     },
     "execution_count": 26,
     "metadata": {},
     "output_type": "execute_result"
    }
   ],
   "source": [
    "stacked_df_.unique()"
   ]
  },
  {
   "cell_type": "code",
   "execution_count": null,
   "metadata": {},
   "outputs": [],
   "source": []
  }
 ],
 "metadata": {
  "kernelspec": {
   "display_name": "Python 3",
   "language": "python",
   "name": "python3"
  },
  "language_info": {
   "codemirror_mode": {
    "name": "ipython",
    "version": 3
   },
   "file_extension": ".py",
   "mimetype": "text/x-python",
   "name": "python",
   "nbconvert_exporter": "python",
   "pygments_lexer": "ipython3",
   "version": "3.12.0"
  }
 },
 "nbformat": 4,
 "nbformat_minor": 2
}
